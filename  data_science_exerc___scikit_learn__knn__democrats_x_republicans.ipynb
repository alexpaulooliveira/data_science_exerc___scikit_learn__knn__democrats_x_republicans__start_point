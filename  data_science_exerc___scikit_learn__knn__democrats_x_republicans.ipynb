{
 "cells": [
  {
   "cell_type": "markdown",
   "metadata": {},
   "source": [
    "# IFS - Data Science - Alex Paulo\n",
    "### KNN\n",
    "### Dataset from https://archive.ics.uci.edu/ml/datasets/Congressional+Voting+Records"
   ]
  },
  {
   "cell_type": "markdown",
   "metadata": {},
   "source": [
    "### O que é o KNN (K-Nearest Neighbor)?\n",
    "\n",
    "\n",
    "![KNN](./knn.png \"KNN\")\n",
    "\n",
    "Me diga com quem tu andas... eu direi quem tu és!!!\n"
   ]
  },
  {
   "cell_type": "markdown",
   "metadata": {},
   "source": [
    "# Exercício\n",
    "\n",
    "### 1) Crie uma aplicação que faça uso da base gratuita disponível em https://archive.ics.uci.edu/ml/datasets/Congressional+Voting+Records\n",
    "\n",
    "### 2) Faça o pré-processamento dos dados removendo todas as abstinências (votos não realizados pelos deputados). \n",
    "\n",
    "### 3) Crie um gráfico exibindo a diferença de intenção de votos, entre republicanos e democratas, referente a investimentos direcionados para crianças deficientes.\n",
    "\n",
    "### 4) Faça a codificação da classificação representando democratas com 0 (zero) e republicanos com 1 (um). Sugestão: utilize a API LabelEncoder, do pacote sklearn.preprocessing.\n",
    "\n",
    "### 5) Utilize a API train_test_split, do pacote sklearn.model_selection, para determinar que 80% dos dados resultantes do pré-processamento serão utilizados para treinamento, e 20% para testes.\n",
    "\n",
    "### 6) Treine o modelo utilizando a API KNeighborsClassifier do pacote sklearn.neighbors.\n",
    "\n",
    "### 7) Faça predições considerando os dados separados para teste pela API train_test_split.\n",
    "\n",
    "### 8) Mensure a acurácia alcançada.\n"
   ]
  }
 ],
 "metadata": {
  "interpreter": {
   "hash": "d9a8acb4f733d3596df9f6fac9daff15e014d11794ebc65488d1c191c94698fd"
  },
  "kernelspec": {
   "display_name": "Python 3.9.12 ('base')",
   "language": "python",
   "name": "python3"
  },
  "language_info": {
   "codemirror_mode": {
    "name": "ipython",
    "version": 3
   },
   "file_extension": ".py",
   "mimetype": "text/x-python",
   "name": "python",
   "nbconvert_exporter": "python",
   "pygments_lexer": "ipython3",
   "version": "3.9.12"
  },
  "orig_nbformat": 4
 },
 "nbformat": 4,
 "nbformat_minor": 2
}
